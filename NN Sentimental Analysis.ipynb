{
 "cells": [
  {
   "cell_type": "code",
   "execution_count": 8,
   "id": "f25bcb48",
   "metadata": {},
   "outputs": [],
   "source": [
    "import pandas as pd"
   ]
  },
  {
   "cell_type": "code",
   "execution_count": 9,
   "id": "3049ed3d",
   "metadata": {},
   "outputs": [],
   "source": [
    "df1=pd.read_csv(r\"C:\\Users\\WELCOME\\Desktop\\yelp.csv\")"
   ]
  },
  {
   "cell_type": "code",
   "execution_count": 10,
   "id": "8dbecfb3",
   "metadata": {},
   "outputs": [],
   "source": [
    "df1\n",
    "x=df1['sentence']\n",
    "y=df1['label']"
   ]
  },
  {
   "cell_type": "code",
   "execution_count": 11,
   "id": "2e8cb648",
   "metadata": {},
   "outputs": [
    {
     "name": "stdout",
     "output_type": "stream",
     "text": [
      "0                               Wow... Loved this place.\n",
      "1                                     Crust is not good.\n",
      "2              Not tasty and the texture was just nasty.\n",
      "3      Stopped by during the late May bank holiday of...\n",
      "4      The selection on the menu was great and so wer...\n",
      "                             ...                        \n",
      "995    I think food should have flavor and texture an...\n",
      "996                             Appetite instantly gone.\n",
      "997    Overall I was not impressed and would not go b...\n",
      "998    The whole experience was underwhelming, and I ...\n",
      "999    Then, as if I hadn't wasted enough of my life ...\n",
      "Name: sentence, Length: 1000, dtype: object 0      1\n",
      "1      0\n",
      "2      0\n",
      "3      1\n",
      "4      1\n",
      "      ..\n",
      "995    0\n",
      "996    0\n",
      "997    0\n",
      "998    0\n",
      "999    0\n",
      "Name: label, Length: 1000, dtype: int64\n"
     ]
    }
   ],
   "source": [
    "print (x,y)"
   ]
  },
  {
   "cell_type": "code",
   "execution_count": 12,
   "id": "1697ca95",
   "metadata": {},
   "outputs": [],
   "source": [
    "from sklearn.model_selection import train_test_split\n",
    "x_train,x_test,y_train,y_test=train_test_split(x,y,test_size=0.2)\n",
    "#test size will be 20%"
   ]
  },
  {
   "cell_type": "code",
   "execution_count": 13,
   "id": "9002fc58",
   "metadata": {},
   "outputs": [
    {
     "name": "stdout",
     "output_type": "stream",
     "text": [
      "(800,) (800,) (200,) (200,)\n"
     ]
    }
   ],
   "source": [
    "print(x_train.shape,y_train.shape,y_test.shape,x_test.shape)"
   ]
  },
  {
   "cell_type": "code",
   "execution_count": 14,
   "id": "025b0d4c",
   "metadata": {},
   "outputs": [
    {
     "name": "stdout",
     "output_type": "stream",
     "text": [
      "Our server was fantastic and when he found out the wife loves roasted garlic and bone marrow, he added extra to our meal and another marrow to go!\n",
      "1\n"
     ]
    }
   ],
   "source": [
    "print(x_train[100])\n",
    "print(y_train[100])"
   ]
  },
  {
   "cell_type": "code",
   "execution_count": 15,
   "id": "e34f2f50",
   "metadata": {},
   "outputs": [],
   "source": [
    "# tokenizing\n",
    "from keras.preprocessing.text import Tokenizer\n",
    "tokenizer=Tokenizer(num_words=500,lower=True)\n",
    "#fitting text in tokenizer\n",
    "tokenizer.fit_on_texts(x_train)\n",
    "\n",
    "#Converting text to no.\n",
    "x_train=tokenizer.texts_to_sequences(x_train)\n",
    "x_test=tokenizer.texts_to_sequences(x_test)\n",
    "\n",
    "#adding 1 because of reserved 0 index\n",
    "vocab_size=len(tokenizer.word_index)+1"
   ]
  },
  {
   "cell_type": "code",
   "execution_count": 17,
   "id": "c56f383b",
   "metadata": {},
   "outputs": [
    {
     "name": "stdout",
     "output_type": "stream",
     "text": [
      "[3, 76, 11, 33, 30, 1, 140]\n",
      "1\n"
     ]
    }
   ],
   "source": [
    "print(x_train[150])\n",
    "print(y_train[100])"
   ]
  },
  {
   "cell_type": "code",
   "execution_count": 18,
   "id": "5a26bd34",
   "metadata": {},
   "outputs": [],
   "source": [
    "#Padding\n",
    "from tensorflow.keras.preprocessing.sequence import pad_sequences\n",
    "\n",
    "# we set the maximum size of each list 100\n",
    "maxlen=100 \n",
    "\n",
    "x_train=pad_sequences(x_train,padding='post',maxlen=maxlen)\n",
    "x_test=pad_sequences(x_test,padding='post',maxlen=maxlen)"
   ]
  },
  {
   "cell_type": "code",
   "execution_count": 19,
   "id": "68718c91",
   "metadata": {},
   "outputs": [
    {
     "name": "stdout",
     "output_type": "stream",
     "text": [
      "[  1 361   7 362  27  32 100  56  14 185   6 363 364  32  61 109  12 293\n",
      "   5 258   0   0   0   0   0   0   0   0   0   0   0   0   0   0   0   0\n",
      "   0   0   0   0   0   0   0   0   0   0   0   0   0   0   0   0   0   0\n",
      "   0   0   0   0   0   0   0   0   0   0   0   0   0   0   0   0   0   0\n",
      "   0   0   0   0   0   0   0   0   0   0   0   0   0   0   0   0   0   0\n",
      "   0   0   0   0   0   0   0   0   0   0]\n"
     ]
    }
   ],
   "source": [
    "print(x_train[5])"
   ]
  },
  {
   "cell_type": "code",
   "execution_count": 20,
   "id": "ed8a0d81",
   "metadata": {},
   "outputs": [],
   "source": [
    "#Assigning classes\n",
    "from keras.utils import to_categorical\n",
    "num_classes=2\n",
    "\n",
    "y_train=to_categorical(y_train,num_classes)\n",
    "y_test=to_categorical(y_test,num_classes)"
   ]
  },
  {
   "cell_type": "code",
   "execution_count": 21,
   "id": "cd12f3c4",
   "metadata": {},
   "outputs": [
    {
     "name": "stdout",
     "output_type": "stream",
     "text": [
      "(800, 2) (200, 2)\n",
      "[1. 0.]\n"
     ]
    }
   ],
   "source": [
    "print(y_train.shape,y_test.shape)\n",
    "print(y_train[0])"
   ]
  },
  {
   "cell_type": "code",
   "execution_count": 22,
   "id": "a78ace6c",
   "metadata": {},
   "outputs": [
    {
     "name": "stdout",
     "output_type": "stream",
     "text": [
      "(800, 100, 1)\n",
      "(200, 100, 1)\n"
     ]
    }
   ],
   "source": [
    "#this algorithm requires 3-dimensional data\n",
    "#generating model\n",
    "from keras.models import Sequential\n",
    "from keras.layers import Dense,Dropout,Activation,SimpleRNN\n",
    "from keras import optimizers\n",
    "from tensorflow.keras.preprocessing.sequence import pad_sequences\n",
    "import numpy as np\n",
    "x_train=np.array(x_train).reshape((x_train.shape[0],x_train.shape[1],1))\n",
    "print(x_train.shape)\n",
    "\n",
    "x_test=np.array(x_test).reshape((x_test.shape[0],x_test.shape[1],1))\n",
    "print(x_test.shape)"
   ]
  },
  {
   "cell_type": "code",
   "execution_count": 23,
   "id": "dfa68d98",
   "metadata": {},
   "outputs": [],
   "source": [
    "nn_classes=2\n",
    "\n",
    "def vanilla_rnn():\n",
    "    model=Sequential()\n",
    "    model.add(SimpleRNN(50,input_shape=(maxlen,1),return_sequences=False))\n",
    "    model.add(Dense(num_classes))\n",
    "    model.add(Activation('softmax'))\n",
    "    model.summary()\n",
    "    \n",
    "    adam=optimizers.Adam(lr=0.001)\n",
    "    model.compile(loss='categorical_crossentropy',optimizer=adam,metrics=['accuracy'])\n",
    "    return model"
   ]
  },
  {
   "cell_type": "code",
   "execution_count": 24,
   "id": "77cacb89",
   "metadata": {},
   "outputs": [
    {
     "name": "stderr",
     "output_type": "stream",
     "text": [
      "C:\\Users\\WELCOME\\AppData\\Local\\Temp\\ipykernel_20988\\318399075.py:2: DeprecationWarning: KerasClassifier is deprecated, use Sci-Keras (https://github.com/adriangb/scikeras) instead. See https://www.adriangb.com/scikeras/stable/migration.html for help migrating.\n",
      "  model=kc(build_fn=vanilla_rnn,epochs=30,batch_size=50)\n"
     ]
    },
    {
     "name": "stdout",
     "output_type": "stream",
     "text": [
      "Model: \"sequential\"\n",
      "_________________________________________________________________\n",
      " Layer (type)                Output Shape              Param #   \n",
      "=================================================================\n",
      " simple_rnn (SimpleRNN)      (None, 50)                2600      \n",
      "                                                                 \n",
      " dense (Dense)               (None, 2)                 102       \n",
      "                                                                 \n",
      " activation (Activation)     (None, 2)                 0         \n",
      "                                                                 \n",
      "=================================================================\n",
      "Total params: 2,702\n",
      "Trainable params: 2,702\n",
      "Non-trainable params: 0\n",
      "_________________________________________________________________\n"
     ]
    },
    {
     "name": "stderr",
     "output_type": "stream",
     "text": [
      "C:\\Users\\WELCOME\\anaconda3\\lib\\site-packages\\keras\\optimizers\\optimizer_v2\\adam.py:114: UserWarning: The `lr` argument is deprecated, use `learning_rate` instead.\n",
      "  super().__init__(name, **kwargs)\n"
     ]
    },
    {
     "name": "stdout",
     "output_type": "stream",
     "text": [
      "Epoch 1/30\n",
      "16/16 [==============================] - 2s 13ms/step - loss: 0.7096 - accuracy: 0.4925\n",
      "Epoch 2/30\n",
      "16/16 [==============================] - 0s 13ms/step - loss: 0.6947 - accuracy: 0.5188\n",
      "Epoch 3/30\n",
      "16/16 [==============================] - 0s 15ms/step - loss: 0.6901 - accuracy: 0.5375\n",
      "Epoch 4/30\n",
      "16/16 [==============================] - 0s 14ms/step - loss: 0.6898 - accuracy: 0.5425\n",
      "Epoch 5/30\n",
      "16/16 [==============================] - 0s 15ms/step - loss: 0.6879 - accuracy: 0.5612\n",
      "Epoch 6/30\n",
      "16/16 [==============================] - 0s 13ms/step - loss: 0.6874 - accuracy: 0.5500\n",
      "Epoch 7/30\n",
      "16/16 [==============================] - 0s 12ms/step - loss: 0.6888 - accuracy: 0.5387\n",
      "Epoch 8/30\n",
      "16/16 [==============================] - 0s 13ms/step - loss: 0.6901 - accuracy: 0.5475\n",
      "Epoch 9/30\n",
      "16/16 [==============================] - 0s 14ms/step - loss: 0.6894 - accuracy: 0.5337\n",
      "Epoch 10/30\n",
      "16/16 [==============================] - 0s 14ms/step - loss: 0.6862 - accuracy: 0.5587\n",
      "Epoch 11/30\n",
      "16/16 [==============================] - 0s 14ms/step - loss: 0.6941 - accuracy: 0.5337\n",
      "Epoch 12/30\n",
      "16/16 [==============================] - 0s 14ms/step - loss: 0.6867 - accuracy: 0.5650\n",
      "Epoch 13/30\n",
      "16/16 [==============================] - 0s 13ms/step - loss: 0.6837 - accuracy: 0.5675\n",
      "Epoch 14/30\n",
      "16/16 [==============================] - 0s 12ms/step - loss: 0.6924 - accuracy: 0.5288\n",
      "Epoch 15/30\n",
      "16/16 [==============================] - 0s 12ms/step - loss: 0.6879 - accuracy: 0.5412\n",
      "Epoch 16/30\n",
      "16/16 [==============================] - 0s 12ms/step - loss: 0.6918 - accuracy: 0.5200\n",
      "Epoch 17/30\n",
      "16/16 [==============================] - 0s 12ms/step - loss: 0.6959 - accuracy: 0.5138\n",
      "Epoch 18/30\n",
      "16/16 [==============================] - 0s 15ms/step - loss: 0.6939 - accuracy: 0.5475\n",
      "Epoch 19/30\n",
      "16/16 [==============================] - 0s 28ms/step - loss: 0.6951 - accuracy: 0.5312\n",
      "Epoch 20/30\n",
      "16/16 [==============================] - 0s 28ms/step - loss: 0.6917 - accuracy: 0.5138\n",
      "Epoch 21/30\n",
      "16/16 [==============================] - 0s 27ms/step - loss: 0.6881 - accuracy: 0.5562\n",
      "Epoch 22/30\n",
      "16/16 [==============================] - 0s 27ms/step - loss: 0.6849 - accuracy: 0.5462\n",
      "Epoch 23/30\n",
      "16/16 [==============================] - 0s 27ms/step - loss: 0.6830 - accuracy: 0.5600\n",
      "Epoch 24/30\n",
      "16/16 [==============================] - 0s 27ms/step - loss: 0.6880 - accuracy: 0.5437\n",
      "Epoch 25/30\n",
      "16/16 [==============================] - 0s 28ms/step - loss: 0.6841 - accuracy: 0.5650\n",
      "Epoch 26/30\n",
      "16/16 [==============================] - 0s 14ms/step - loss: 0.6868 - accuracy: 0.5362\n",
      "Epoch 27/30\n",
      "16/16 [==============================] - 0s 14ms/step - loss: 0.6895 - accuracy: 0.5288\n",
      "Epoch 28/30\n",
      "16/16 [==============================] - 0s 15ms/step - loss: 0.6913 - accuracy: 0.5400\n",
      "Epoch 29/30\n",
      "16/16 [==============================] - 0s 14ms/step - loss: 0.6846 - accuracy: 0.5650\n",
      "Epoch 30/30\n",
      "16/16 [==============================] - 0s 12ms/step - loss: 0.6843 - accuracy: 0.5688\n"
     ]
    },
    {
     "data": {
      "text/plain": [
       "<keras.callbacks.History at 0x20fd81747f0>"
      ]
     },
     "execution_count": 24,
     "metadata": {},
     "output_type": "execute_result"
    }
   ],
   "source": [
    "#Accuracy and Fitting of Model\n",
    "from keras.wrappers.scikit_learn import KerasClassifier as kc\n",
    "model=kc(build_fn=vanilla_rnn,epochs=30,batch_sifrom sklearn.metrics import accuracy_score\n",
    "y_pred=model.predict(x_test)\n",
    "y_test=np.argmax(y_test,axis=1)\n",
    "print(accuracy_score(y_pred,y_test))ze=50)\n",
    "model.fit(x_train,y_train)"
   ]
  },
  {
   "cell_type": "code",
   "execution_count": 25,
   "id": "9d080ca8",
   "metadata": {},
   "outputs": [
    {
     "name": "stdout",
     "output_type": "stream",
     "text": [
      "7/7 [==============================] - 1s 8ms/step\n",
      "0.435\n"
     ]
    }
   ],
   "source": [
    "#Prediction and Accuracy of model\n",
    "from sklearn.metrics import accuracy_score\n",
    "y_pred=model.predict(x_test)\n",
    "y_test=np.argmax(y_test,axis=1)\n",
    "print(accuracy_score(y_pred,y_test))"
   ]
  },
  {
   "cell_type": "code",
   "execution_count": 26,
   "id": "59349c47",
   "metadata": {},
   "outputs": [
    {
     "name": "stdout",
     "output_type": "stream",
     "text": [
      "[1 1 0 1 1 1 1 0 1 1 0 0 0 1 0 1 1 1 1 0 1 1 1 0 0 0 1 1 1 0 0 1 0 0 0 0 1\n",
      " 1 0 0 0 1 1 1 1 0 1 1 1 0 0 1 1 0 1 0 1 0 1 0 1 0 1 1 0 0 0 0 0 1 0 1 0 0\n",
      " 1 1 1 1 1 1 1 0 1 0 0 1 1 1 1 1 1 1 1 1 0 0 1 1 1 1 1 1 0 0 0 1 0 1 0 1 1\n",
      " 1 1 1 0 0 0 1 0 1 0 0 0 0 1 0 1 1 0 0 0 1 0 1 1 0 1 0 1 0 1 1 0 0 0 0 1 1\n",
      " 0 1 1 0 0 0 0 0 0 0 0 1 1 0 1 1 0 0 1 0 1 1 1 0 1 1 1 0 0 0 0 0 1 0 1 0 1\n",
      " 1 1 0 1 1 0 0 1 0 1 1 1 1 0 1]\n"
     ]
    }
   ],
   "source": [
    "print(y_test)"
   ]
  },
  {
   "cell_type": "code",
   "execution_count": 30,
   "id": "9fa57152",
   "metadata": {},
   "outputs": [
    {
     "name": "stdout",
     "output_type": "stream",
     "text": [
      "(1, 100, 1)\n",
      "1/1 [==============================] - 1s 739ms/step\n",
      "[0]\n"
     ]
    }
   ],
   "source": [
    "#testing model\n",
    "a=[\"No I don't want you to do this\"]\n",
    "a=tokenizer.texts_to_sequences(a)\n",
    "a=np.array(a)\n",
    "a=pad_sequences(a,padding='post',maxlen=maxlen)\n",
    "\n",
    "a=a.reshape((a.shape[0],a.shape[1],1))\n",
    "print(a.shape)\n",
    "\n",
    "prediction=model.predict(np.array(a))\n",
    "print(prediction)"
   ]
  },
  {
   "cell_type": "code",
   "execution_count": null,
   "id": "9867ff8e",
   "metadata": {},
   "outputs": [],
   "source": []
  }
 ],
 "metadata": {
  "kernelspec": {
   "display_name": "Python 3 (ipykernel)",
   "language": "python",
   "name": "python3"
  },
  "language_info": {
   "codemirror_mode": {
    "name": "ipython",
    "version": 3
   },
   "file_extension": ".py",
   "mimetype": "text/x-python",
   "name": "python",
   "nbconvert_exporter": "python",
   "pygments_lexer": "ipython3",
   "version": "3.9.12"
  }
 },
 "nbformat": 4,
 "nbformat_minor": 5
}
